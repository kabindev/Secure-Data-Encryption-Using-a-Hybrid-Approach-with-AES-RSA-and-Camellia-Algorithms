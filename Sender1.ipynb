{
  "nbformat": 4,
  "nbformat_minor": 0,
  "metadata": {
    "colab": {
      "provenance": []
    },
    "kernelspec": {
      "name": "python3",
      "display_name": "Python 3"
    },
    "language_info": {
      "name": "python"
    }
  },
  "cells": [
    {
      "cell_type": "code",
      "execution_count": null,
      "metadata": {
        "colab": {
          "base_uri": "https://localhost:8080/"
        },
        "id": "JgnteuW2FQ0p",
        "outputId": "0402b9ba-de79-4ccd-93c3-6cbd8dd85fed"
      },
      "outputs": [
        {
          "output_type": "stream",
          "name": "stdout",
          "text": [
            "Requirement already satisfied: cryptography in /usr/local/lib/python3.11/dist-packages (43.0.3)\n",
            "Requirement already satisfied: cffi>=1.12 in /usr/local/lib/python3.11/dist-packages (from cryptography) (1.17.1)\n",
            "Requirement already satisfied: pycparser in /usr/local/lib/python3.11/dist-packages (from cffi>=1.12->cryptography) (2.22)\n",
            "Libraries installed and imported successfully!\n"
          ]
        }
      ],
      "source": [
        "# Sender Block 1: Install and Import Libraries\n",
        "!pip install cryptography\n",
        "from cryptography.hazmat.primitives import hashes, padding\n",
        "from cryptography.hazmat.primitives.ciphers import Cipher, algorithms, modes\n",
        "from cryptography.hazmat.primitives.asymmetric import padding as asym_padding\n",
        "from cryptography.hazmat.primitives import serialization\n",
        "import os\n",
        "\n",
        "print(\"Libraries installed and imported successfully!\")"
      ]
    },
    {
      "cell_type": "code",
      "source": [
        "# Sender Block 2: Load RSA Public Key\n",
        "def load_public_key(public_key_path):\n",
        "    try:\n",
        "        with open(public_key_path, \"rb\") as f:\n",
        "            return serialization.load_pem_public_key(f.read())\n",
        "    except Exception as e:\n",
        "        print(f\"Error loading public key: {e}\")\n",
        "        return None\n",
        "\n",
        "print(\"Public key loading function defined. Provide the path in the next step.\")"
      ],
      "metadata": {
        "colab": {
          "base_uri": "https://localhost:8080/"
        },
        "id": "dlOFVpBKFv7X",
        "outputId": "56ee2c3f-61b5-49f5-c7ea-0ecd602409d8"
      },
      "execution_count": null,
      "outputs": [
        {
          "output_type": "stream",
          "name": "stdout",
          "text": [
            "Public key loading function defined. Provide the path in the next step.\n"
          ]
        }
      ]
    },
    {
      "cell_type": "code",
      "source": [
        "# Sender Block 3: Encryption Function\n",
        "def encrypt_file(input_file, output_file, public_key):\n",
        "    try:\n",
        "        aes_key = os.urandom(32)\n",
        "        camellia_key = os.urandom(32)\n",
        "        aes_iv = os.urandom(16)\n",
        "        camellia_iv = os.urandom(16)\n",
        "\n",
        "        with open(input_file, \"rb\") as f:\n",
        "            plaintext = f.read()\n",
        "        split_point = len(plaintext) // 2\n",
        "        part1, part2 = plaintext[:split_point], plaintext[split_point:]\n",
        "\n",
        "        padder1 = padding.PKCS7(128).padder()\n",
        "        padded_part1 = padder1.update(part1) + padder1.finalize()\n",
        "        padder2 = padding.PKCS7(128).padder()\n",
        "        padded_part2 = padder2.update(part2) + padder2.finalize()\n",
        "\n",
        "        aes_cipher = Cipher(algorithms.AES(aes_key), modes.CBC(aes_iv))\n",
        "        aes_encryptor = aes_cipher.encryptor()\n",
        "        aes_ciphertext = aes_encryptor.update(padded_part1) + aes_encryptor.finalize()\n",
        "\n",
        "        camellia_cipher = Cipher(algorithms.Camellia(camellia_key), modes.CBC(camellia_iv))\n",
        "        camellia_encryptor = camellia_cipher.encryptor()\n",
        "        camellia_ciphertext = camellia_encryptor.update(padded_part2) + camellia_encryptor.finalize()\n",
        "\n",
        "        encrypted_aes_key = public_key.encrypt(\n",
        "            aes_key,\n",
        "            asym_padding.OAEP(mgf=asym_padding.MGF1(algorithm=hashes.SHA256()), algorithm=hashes.SHA256(), label=None)\n",
        "        )\n",
        "        encrypted_camellia_key = public_key.encrypt(\n",
        "            camellia_key,\n",
        "            asym_padding.OAEP(mgf=asym_padding.MGF1(algorithm=hashes.SHA256()), algorithm=hashes.SHA256(), label=None)\n",
        "        )\n",
        "\n",
        "        aes_length = len(aes_ciphertext).to_bytes(4, byteorder='big')\n",
        "        camellia_length = len(camellia_ciphertext).to_bytes(4, byteorder='big')\n",
        "\n",
        "        with open(output_file, \"wb\") as f:\n",
        "            f.write(encrypted_aes_key)\n",
        "            f.write(encrypted_camellia_key)\n",
        "            f.write(aes_iv)\n",
        "            f.write(camellia_iv)\n",
        "            f.write(aes_length)\n",
        "            f.write(camellia_length)\n",
        "            f.write(aes_ciphertext)\n",
        "            f.write(camellia_ciphertext)\n",
        "\n",
        "        print(f\"File encrypted and saved as {output_file}\")\n",
        "    except FileNotFoundError:\n",
        "        print(f\"Error: Input file '{input_file}' not found.\")\n",
        "    except Exception as e:\n",
        "        print(f\"Error during encryption: {e}\")"
      ],
      "metadata": {
        "id": "-JzAVze9F5hy"
      },
      "execution_count": null,
      "outputs": []
    },
    {
      "cell_type": "code",
      "source": [
        "# Sender Block 4: Sender’s Main Execution\n",
        "# Upload your file (e.g., text.txt or image.jpg) and public_key.pem to /content/\n",
        "input_file = input(\"Enter file to encrypt (e.g., /content/text.txt or /content/image.jpg): \").strip()\n",
        "output_file = input(\"Enter encrypted output file path (e.g., /content/encrypted_file.bin): \").strip()\n",
        "public_key_path = input(\"Enter RSA public key file path (e.g., /content/public_key.pem): \").strip()\n",
        "\n",
        "public_key = load_public_key(public_key_path)\n",
        "if public_key:\n",
        "    encrypt_file(input_file, output_file, public_key)\n",
        "    print(\"Encryption complete. Share the encrypted file with the receiver.\")\n",
        "else:\n",
        "    print(\"Encryption aborted due to public key loading failure.\")"
      ],
      "metadata": {
        "colab": {
          "base_uri": "https://localhost:8080/"
        },
        "id": "wYxvFGYgGAXH",
        "outputId": "3a75a3f3-ca45-4c99-d065-0a3eac6f8472"
      },
      "execution_count": null,
      "outputs": [
        {
          "output_type": "stream",
          "name": "stdout",
          "text": [
            "Enter file to encrypt (e.g., /content/text.txt or /content/image.jpg): /content/bigdataass2.jpg\n",
            "Enter encrypted output file path (e.g., /content/encrypted_file.bin): /content/encrypted_file.bin\n",
            "Enter RSA public key file path (e.g., /content/public_key.pem): /content/public_key.pem\n",
            "File encrypted and saved as /content/encrypted_file.bin\n",
            "Encryption complete. Share the encrypted file with the receiver.\n"
          ]
        }
      ]
    }
  ]
}
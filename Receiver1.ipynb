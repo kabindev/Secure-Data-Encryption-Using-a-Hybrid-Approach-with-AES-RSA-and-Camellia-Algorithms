{
  "cells": [
    {
      "cell_type": "code",
      "execution_count": null,
      "metadata": {
        "colab": {
          "base_uri": "https://localhost:8080/"
        },
        "id": "C2wLBGbHGHfz",
        "outputId": "cc3ba299-cfb4-4614-b82e-d28df0bb0d04"
      },
      "outputs": [
        {
          "name": "stdout",
          "output_type": "stream",
          "text": [
            "Requirement already satisfied: cryptography in /usr/local/lib/python3.11/dist-packages (43.0.3)\n",
            "Requirement already satisfied: cffi>=1.12 in /usr/local/lib/python3.11/dist-packages (from cryptography) (1.17.1)\n",
            "Requirement already satisfied: pycparser in /usr/local/lib/python3.11/dist-packages (from cffi>=1.12->cryptography) (2.22)\n",
            "Libraries installed and imported successfully!\n"
          ]
        }
      ],
      "source": [
        "# Receiver Block 1: Install and Import Libraries\n",
        "!pip install cryptography\n",
        "from cryptography.hazmat.primitives import hashes, padding\n",
        "from cryptography.hazmat.primitives.ciphers import Cipher, algorithms, modes\n",
        "from cryptography.hazmat.primitives.asymmetric import rsa, padding as asym_padding\n",
        "from cryptography.hazmat.primitives import serialization\n",
        "import os\n",
        "from IPython.display import Image, display  # For displaying images in Colab\n",
        "\n",
        "print(\"Libraries installed and imported successfully!\")"
      ]
    },
    {
      "cell_type": "code",
      "execution_count": null,
      "metadata": {
        "colab": {
          "base_uri": "https://localhost:8080/"
        },
        "id": "BwbuR2KdGPib",
        "outputId": "f552d507-940a-431d-ca3a-3dad3c5bf13a"
      },
      "outputs": [
        {
          "name": "stdout",
          "output_type": "stream",
          "text": [
            "Run this to generate RSA keys if you don’t have them yet. Skip if you already have keys.\n",
            "Generate RSA keys? (yes/no): yes\n",
            "RSA keys saved in /content/. Share public_key.pem with the sender!\n"
          ]
        }
      ],
      "source": [
        "# Receiver Block 2: Generate and Save RSA Keys\n",
        "def generate_rsa_keys():\n",
        "    try:\n",
        "        private_key = rsa.generate_private_key(public_exponent=65537, key_size=2048)\n",
        "        public_key = private_key.public_key()\n",
        "        return private_key, public_key\n",
        "    except Exception as e:\n",
        "        print(f\"Error generating RSA keys: {e}\")\n",
        "        return None, None\n",
        "\n",
        "def save_keys(private_key, public_key):\n",
        "    try:\n",
        "        with open(\"/content/private_key.pem\", \"wb\") as f:\n",
        "            f.write(private_key.private_bytes(\n",
        "                encoding=serialization.Encoding.PEM,\n",
        "                format=serialization.PrivateFormat.PKCS8,\n",
        "                encryption_algorithm=serialization.NoEncryption()\n",
        "            ))\n",
        "        with open(\"/content/public_key.pem\", \"wb\") as f:\n",
        "            f.write(public_key.public_bytes(\n",
        "                encoding=serialization.Encoding.PEM,\n",
        "                format=serialization.PublicFormat.SubjectPublicKeyInfo\n",
        "            ))\n",
        "        print(\"RSA keys saved in /content/. Share public_key.pem with the sender!\")\n",
        "    except Exception as e:\n",
        "        print(f\"Error saving keys: {e}\")\n",
        "\n",
        "# Generate keys (run this once if starting fresh)\n",
        "print(\"Run this to generate RSA keys if you don’t have them yet. Skip if you already have keys.\")\n",
        "generate_keys = input(\"Generate RSA keys? (yes/no): \").strip().lower()\n",
        "if generate_keys == \"yes\":\n",
        "    private_key, public_key = generate_rsa_keys()\n",
        "    if private_key and public_key:\n",
        "        save_keys(private_key, public_key)"
      ]
    },
    {
      "cell_type": "code",
      "execution_count": null,
      "metadata": {
        "colab": {
          "background_save": true,
          "base_uri": "https://localhost:8080/"
        },
        "id": "VMjO6O3FGWFv",
        "outputId": "82caaecf-5a08-4d2c-f6ab-fece740454b3"
      },
      "outputs": [
        {
          "name": "stdout",
          "output_type": "stream",
          "text": [
            "Private key loading function defined. Provide the path in the next step.\n"
          ]
        }
      ],
      "source": [
        "# Receiver Block 3: Load RSA Private Key\n",
        "def load_private_key(private_key_path):\n",
        "    try:\n",
        "        with open(private_key_path, \"rb\") as f:\n",
        "            return serialization.load_pem_private_key(f.read(), password=None)\n",
        "    except Exception as e:\n",
        "        print(f\"Error loading private key: {e}\")\n",
        "        return None\n",
        "\n",
        "print(\"Private key loading function defined. Provide the path in the next step.\")"
      ]
    },
    {
      "cell_type": "code",
      "execution_count": null,
      "metadata": {
        "id": "GxuaEhasGZ7_"
      },
      "outputs": [],
      "source": [
        "# Receiver Block 4: Decryption Function\n",
        "def decrypt_file(encrypted_file, output_file, private_key):\n",
        "    try:\n",
        "        with open(encrypted_file, \"rb\") as f:\n",
        "            data = f.read()\n",
        "\n",
        "        encrypted_aes_key = data[:256]\n",
        "        encrypted_camellia_key = data[256:512]\n",
        "        aes_iv = data[512:528]\n",
        "        camellia_iv = data[528:544]\n",
        "        aes_length = int.from_bytes(data[544:548], byteorder='big')\n",
        "        camellia_length = int.from_bytes(data[548:552], byteorder='big')\n",
        "        aes_ciphertext = data[552:552 + aes_length]\n",
        "        camellia_ciphertext = data[552 + aes_length:552 + aes_length + camellia_length]\n",
        "\n",
        "        aes_key = private_key.decrypt(\n",
        "            encrypted_aes_key,\n",
        "            asym_padding.OAEP(mgf=asym_padding.MGF1(algorithm=hashes.SHA256()), algorithm=hashes.SHA256(), label=None)\n",
        "        )\n",
        "        camellia_key = private_key.decrypt(\n",
        "            encrypted_camellia_key,\n",
        "            asym_padding.OAEP(mgf=asym_padding.MGF1(algorithm=hashes.SHA256()), algorithm=hashes.SHA256(), label=None)\n",
        "        )\n",
        "\n",
        "        aes_cipher = Cipher(algorithms.AES(aes_key), modes.CBC(aes_iv))\n",
        "        aes_decryptor = aes_cipher.decryptor()\n",
        "        padded_part1 = aes_decryptor.update(aes_ciphertext) + aes_decryptor.finalize()\n",
        "\n",
        "        camellia_cipher = Cipher(algorithms.Camellia(camellia_key), modes.CBC(camellia_iv))\n",
        "        camellia_decryptor = camellia_cipher.decryptor()\n",
        "        padded_part2 = camellia_decryptor.update(camellia_ciphertext) + camellia_decryptor.finalize()\n",
        "\n",
        "        unpadder1 = padding.PKCS7(128).unpadder()\n",
        "        part1 = unpadder1.update(padded_part1) + unpadder1.finalize()\n",
        "        unpadder2 = padding.PKCS7(128).unpadder()\n",
        "        part2 = unpadder2.update(padded_part2) + unpadder2.finalize()\n",
        "\n",
        "        plaintext = part1 + part2\n",
        "        with open(output_file, \"wb\") as f:\n",
        "            f.write(plaintext)\n",
        "\n",
        "        print(f\"File decrypted and saved as {output_file}\")\n",
        "        # Display based on file type\n",
        "        if output_file.lower().endswith(('.jpg', '.jpeg', '.png', '.gif')):\n",
        "            print(\"Displaying decrypted image:\")\n",
        "            display(Image(filename=output_file))\n",
        "        elif output_file.lower().endswith('.txt'):\n",
        "            print(\"Displaying decrypted text:\")\n",
        "            with open(output_file, \"r\") as f:\n",
        "                print(f.read())\n",
        "    except FileNotFoundError:\n",
        "        print(f\"Error: Encrypted file '{encrypted_file}' not found.\")\n",
        "    except Exception as e:\n",
        "        print(f\"Error during decryption: {e}\")"
      ]
    },
    {
      "cell_type": "code",
      "execution_count": null,
      "metadata": {
        "colab": {
          "base_uri": "https://localhost:8080/",
          "height": 373
        },
        "id": "Xuk6bXSJGgri",
        "outputId": "795d95ac-2a1d-4852-a779-46bd2505920f"
      },
      "outputs": [
        {
          "ename": "KeyboardInterrupt",
          "evalue": "Interrupted by user",
          "output_type": "error",
          "traceback": [
            "\u001b[0;31m---------------------------------------------------------------------------\u001b[0m",
            "\u001b[0;31mKeyboardInterrupt\u001b[0m                         Traceback (most recent call last)",
            "\u001b[0;32m<ipython-input-13-71e89ce48945>\u001b[0m in \u001b[0;36m<cell line: 0>\u001b[0;34m()\u001b[0m\n\u001b[1;32m      1\u001b[0m \u001b[0;31m# Receiver Block 5: Receiver’s Main Execution\u001b[0m\u001b[0;34m\u001b[0m\u001b[0;34m\u001b[0m\u001b[0m\n\u001b[1;32m      2\u001b[0m \u001b[0;31m# Upload encrypted_file.bin and private_key.pem to /content/\u001b[0m\u001b[0;34m\u001b[0m\u001b[0;34m\u001b[0m\u001b[0m\n\u001b[0;32m----> 3\u001b[0;31m \u001b[0mencrypted_file\u001b[0m \u001b[0;34m=\u001b[0m \u001b[0minput\u001b[0m\u001b[0;34m(\u001b[0m\u001b[0;34m\"Enter encrypted file path (e.g., /content/encrypted_file.bin): \"\u001b[0m\u001b[0;34m)\u001b[0m\u001b[0;34m.\u001b[0m\u001b[0mstrip\u001b[0m\u001b[0;34m(\u001b[0m\u001b[0;34m)\u001b[0m\u001b[0;34m\u001b[0m\u001b[0;34m\u001b[0m\u001b[0m\n\u001b[0m\u001b[1;32m      4\u001b[0m \u001b[0moutput_file\u001b[0m \u001b[0;34m=\u001b[0m \u001b[0minput\u001b[0m\u001b[0;34m(\u001b[0m\u001b[0;34m\"Enter decrypted output file path (e.g., /content/decrypted_text.txt or /content/decrypted_image.jpg): \"\u001b[0m\u001b[0;34m)\u001b[0m\u001b[0;34m.\u001b[0m\u001b[0mstrip\u001b[0m\u001b[0;34m(\u001b[0m\u001b[0;34m)\u001b[0m\u001b[0;34m\u001b[0m\u001b[0;34m\u001b[0m\u001b[0m\n\u001b[1;32m      5\u001b[0m \u001b[0mprivate_key_path\u001b[0m \u001b[0;34m=\u001b[0m \u001b[0minput\u001b[0m\u001b[0;34m(\u001b[0m\u001b[0;34m\"Enter RSA private key file path (e.g., /content/private_key.pem): \"\u001b[0m\u001b[0;34m)\u001b[0m\u001b[0;34m.\u001b[0m\u001b[0mstrip\u001b[0m\u001b[0;34m(\u001b[0m\u001b[0;34m)\u001b[0m\u001b[0;34m\u001b[0m\u001b[0;34m\u001b[0m\u001b[0m\n",
            "\u001b[0;32m/usr/local/lib/python3.11/dist-packages/ipykernel/kernelbase.py\u001b[0m in \u001b[0;36mraw_input\u001b[0;34m(self, prompt)\u001b[0m\n\u001b[1;32m   1175\u001b[0m                 \u001b[0;34m\"raw_input was called, but this frontend does not support input requests.\"\u001b[0m\u001b[0;34m\u001b[0m\u001b[0;34m\u001b[0m\u001b[0m\n\u001b[1;32m   1176\u001b[0m             )\n\u001b[0;32m-> 1177\u001b[0;31m         return self._input_request(\n\u001b[0m\u001b[1;32m   1178\u001b[0m             \u001b[0mstr\u001b[0m\u001b[0;34m(\u001b[0m\u001b[0mprompt\u001b[0m\u001b[0;34m)\u001b[0m\u001b[0;34m,\u001b[0m\u001b[0;34m\u001b[0m\u001b[0;34m\u001b[0m\u001b[0m\n\u001b[1;32m   1179\u001b[0m             \u001b[0mself\u001b[0m\u001b[0;34m.\u001b[0m\u001b[0m_parent_ident\u001b[0m\u001b[0;34m[\u001b[0m\u001b[0;34m\"shell\"\u001b[0m\u001b[0;34m]\u001b[0m\u001b[0;34m,\u001b[0m\u001b[0;34m\u001b[0m\u001b[0;34m\u001b[0m\u001b[0m\n",
            "\u001b[0;32m/usr/local/lib/python3.11/dist-packages/ipykernel/kernelbase.py\u001b[0m in \u001b[0;36m_input_request\u001b[0;34m(self, prompt, ident, parent, password)\u001b[0m\n\u001b[1;32m   1217\u001b[0m             \u001b[0;32mexcept\u001b[0m \u001b[0mKeyboardInterrupt\u001b[0m\u001b[0;34m:\u001b[0m\u001b[0;34m\u001b[0m\u001b[0;34m\u001b[0m\u001b[0m\n\u001b[1;32m   1218\u001b[0m                 \u001b[0;31m# re-raise KeyboardInterrupt, to truncate traceback\u001b[0m\u001b[0;34m\u001b[0m\u001b[0;34m\u001b[0m\u001b[0m\n\u001b[0;32m-> 1219\u001b[0;31m                 \u001b[0;32mraise\u001b[0m \u001b[0mKeyboardInterrupt\u001b[0m\u001b[0;34m(\u001b[0m\u001b[0;34m\"Interrupted by user\"\u001b[0m\u001b[0;34m)\u001b[0m \u001b[0;32mfrom\u001b[0m \u001b[0;32mNone\u001b[0m\u001b[0;34m\u001b[0m\u001b[0;34m\u001b[0m\u001b[0m\n\u001b[0m\u001b[1;32m   1220\u001b[0m             \u001b[0;32mexcept\u001b[0m \u001b[0mException\u001b[0m\u001b[0;34m:\u001b[0m\u001b[0;34m\u001b[0m\u001b[0;34m\u001b[0m\u001b[0m\n\u001b[1;32m   1221\u001b[0m                 \u001b[0mself\u001b[0m\u001b[0;34m.\u001b[0m\u001b[0mlog\u001b[0m\u001b[0;34m.\u001b[0m\u001b[0mwarning\u001b[0m\u001b[0;34m(\u001b[0m\u001b[0;34m\"Invalid Message:\"\u001b[0m\u001b[0;34m,\u001b[0m \u001b[0mexc_info\u001b[0m\u001b[0;34m=\u001b[0m\u001b[0;32mTrue\u001b[0m\u001b[0;34m)\u001b[0m\u001b[0;34m\u001b[0m\u001b[0;34m\u001b[0m\u001b[0m\n",
            "\u001b[0;31mKeyboardInterrupt\u001b[0m: Interrupted by user"
          ]
        }
      ],
      "source": [
        "# Receiver Block 5: Receiver’s Main Execution\n",
        "# Upload encrypted_file.bin and private_key.pem to /content/\n",
        "encrypted_file = input(\"Enter encrypted file path (e.g., /content/encrypted_file.bin): \").strip()\n",
        "output_file = input(\"Enter decrypted output file path (e.g., /content/decrypted_text.txt or /content/decrypted_image.jpg): \").strip()\n",
        "private_key_path = input(\"Enter RSA private key file path (e.g., /content/private_key.pem): \").strip()\n",
        "\n",
        "private_key = load_private_key(private_key_path)\n",
        "if private_key:\n",
        "    decrypt_file(encrypted_file, output_file, private_key)\n",
        "else:\n",
        "    print(\"Decryption aborted due to private key loading failure.\")"
      ]
    }
  ],
  "metadata": {
    "colab": {
      "provenance": []
    },
    "kernelspec": {
      "display_name": "Python 3",
      "name": "python3"
    },
    "language_info": {
      "name": "python"
    }
  },
  "nbformat": 4,
  "nbformat_minor": 0
}